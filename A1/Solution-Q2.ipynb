{
 "metadata": {
  "name": "",
  "signature": "sha256:c63c49e6b333d17d9fd548ef109fc7db46de70c31943f73da8dfb93310062d74"
 },
 "nbformat": 3,
 "nbformat_minor": 0,
 "worksheets": [
  {
   "cells": [
    {
     "cell_type": "code",
     "collapsed": false,
     "input": [
      "import pandas as pd\n",
      "import numpy as np\n",
      "from sklearn.feature_selection import *\n",
      "from sklearn.metrics import accuracy_score, f1_score, precision_score, recall_score"
     ],
     "language": "python",
     "metadata": {},
     "outputs": [],
     "prompt_number": 1
    },
    {
     "cell_type": "heading",
     "level": 4,
     "metadata": {},
     "source": [
      "Load data"
     ]
    },
    {
     "cell_type": "code",
     "collapsed": false,
     "input": [
      "# specify the location to the data file\n",
      "data_file = \"bank_partial.csv\"\n",
      "\n",
      "# read from text file, exclude header in the data\n",
      "df_data = pd.read_csv(data_file)"
     ],
     "language": "python",
     "metadata": {},
     "outputs": [],
     "prompt_number": 2
    },
    {
     "cell_type": "code",
     "collapsed": false,
     "input": [
      "# get all the discrete attributes\n",
      "disc_cols = [col for col in df_data.columns if df_data[col].dtype == np.object]\n",
      "# get all the continous attributes\n",
      "cont_cols = [col for col in df_data.columns if df_data[col].dtype == np.int64 ]\n",
      "\n",
      "print \"discrete: %d\" % len(disc_cols), disc_cols\n",
      "print \"continuous: %d\" % len(cont_cols), cont_cols"
     ],
     "language": "python",
     "metadata": {},
     "outputs": [
      {
       "output_type": "stream",
       "stream": "stdout",
       "text": [
        "discrete: 11 ['job', 'marital', 'education', 'default', 'housing', 'loan', 'contact', 'month', 'day_of_week', 'poutcome', 'y']\n",
        "continuous: 5 ['age', 'duration', 'campaign', 'pdays', 'previous']\n"
       ]
      }
     ],
     "prompt_number": 3
    },
    {
     "cell_type": "heading",
     "level": 4,
     "metadata": {},
     "source": [
      "Encode string values to integers"
     ]
    },
    {
     "cell_type": "markdown",
     "metadata": {},
     "source": [
      "(sklearn classifiers do not take string values as input)"
     ]
    },
    {
     "cell_type": "code",
     "collapsed": false,
     "input": [
      "# encode string values to integers\n",
      "from sklearn.preprocessing import LabelEncoder\n",
      "\n",
      "# maintain a dict for string to integer mappings for each column\n",
      "label_dict = dict()\n",
      "for col in disc_cols:\n",
      "    le = LabelEncoder()\n",
      "    # map the string values\n",
      "    df_data[col] = le.fit_transform(df_data[col])\n",
      "    # store the mapping in the dict\n",
      "    label_dict[col] = dict()\n",
      "    for cls, label in zip(le.classes_, le.transform(le.classes_)):\n",
      "        label_dict[col][label] = cls"
     ],
     "language": "python",
     "metadata": {},
     "outputs": [],
     "prompt_number": 4
    },
    {
     "cell_type": "heading",
     "level": 4,
     "metadata": {},
     "source": [
      "Encode discrete attributes with integer values to factors"
     ]
    },
    {
     "cell_type": "code",
     "collapsed": false,
     "input": [
      "\"\"\" \n",
      "One hot encoding forces sklearn classifiers to treat discrete attributes as factors.\n",
      "\n",
      "\"\"\"\n",
      "from sklearn.preprocessing import OneHotEncoder\n",
      "\n",
      "# create an instance of OneHotEncoder\n",
      "ohe = OneHotEncoder()\n",
      "# create a new data frame using one hot encoding\n",
      "\n",
      "# extract continuous attributes to the new data frame\n",
      "df_data2 = df_data[cont_cols]\n",
      "\n",
      "# a container used to store names of the new\u00df attribtes\n",
      "ohe_cols = []\n",
      "\n",
      "# exclude class variable from One Hot encoding\n",
      "disc_cols.remove('y')\n",
      "\n",
      "# encode each discrete attribute\n",
      "for col in disc_cols:\n",
      "    ohe = OneHotEncoder()\n",
      "    encoded = ohe.fit_transform(df_data[[col]]).toarray()\n",
      "    # create names for the new attributes\n",
      "    names = [col+\"=\"+str(i) for i in range(ohe.n_values_)]\n",
      "    ohe_cols.extend(names)\n",
      "    # transform the encoded values to a data frame\n",
      "    df_encoded = pd.DataFrame(encoded, columns=names)\n",
      "    # concatenate the data frame with the larger new data frame\n",
      "    df_data2 = pd.concat([df_data2, df_encoded], axis=1)"
     ],
     "language": "python",
     "metadata": {},
     "outputs": [],
     "prompt_number": 5
    },
    {
     "cell_type": "heading",
     "level": 4,
     "metadata": {},
     "source": [
      "Partition the data set for cross validation"
     ]
    },
    {
     "cell_type": "code",
     "collapsed": false,
     "input": [
      "from sklearn.cross_validation import train_test_split\n",
      "\n",
      "# partition: train/test = 80/20\n",
      "train_x, test_x, train_y, test_y = train_test_split(df_data2, df_data[\"y\"], test_size=0.2, random_state=123)\n",
      "\n",
      "# convert numpy arrays to data frames\n",
      "df_train_x = pd.DataFrame(train_x, columns=df_data2.columns)\n",
      "df_test_x = pd.DataFrame(test_x, columns=df_data2.columns)\n",
      "df_train_y = pd.DataFrame(train_y, columns=[\"y\"])\n",
      "df_test_y = pd.DataFrame(test_y, columns=[\"y\"])\n",
      "\n",
      "print \"shapes\"\n",
      "print df_train_x.shape\n",
      "print df_test_x.shape\n",
      "print df_train_y.shape\n",
      "print df_test_y.shape\n",
      "\n",
      "print \n",
      "\n",
      "print \"outcome counts\"\n",
      "print df_data[\"y\"].value_counts()\n",
      "print df_train_y[\"y\"].value_counts()\n",
      "print df_test_y[\"y\"].value_counts()\n",
      "# the class counts show that the sampling is roughly stratified"
     ],
     "language": "python",
     "metadata": {},
     "outputs": [
      {
       "output_type": "stream",
       "stream": "stdout",
       "text": [
        "shapes\n",
        "(14843, 58)\n",
        "(3711, 58)\n",
        "(14843, 1)\n",
        "(3711, 1)\n",
        "\n",
        "outcome counts\n",
        "0    13914\n",
        "1     4640\n",
        "dtype: int64"
       ]
      },
      {
       "output_type": "stream",
       "stream": "stdout",
       "text": [
        "\n",
        "0    11142\n",
        "1     3701\n",
        "dtype: int64\n",
        "0    2772\n",
        "1     939\n",
        "dtype: int64\n"
       ]
      }
     ],
     "prompt_number": 6
    }
   ],
   "metadata": {}
  }
 ]
}