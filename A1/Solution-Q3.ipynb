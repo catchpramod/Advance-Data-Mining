{
 "metadata": {
  "name": "",
  "signature": "sha256:12af45253a2fd7030f0f8762b2c76a5ac5d6cbbcebb10c8714ee1039da1e7a80"
 },
 "nbformat": 3,
 "nbformat_minor": 0,
 "worksheets": [
  {
   "cells": [
    {
     "cell_type": "code",
     "collapsed": false,
     "input": [
      "import pandas as pd\n",
      "import numpy as np\n",
      "from sklearn.feature_selection import *\n",
      "from sklearn.metrics import accuracy_score, f1_score, precision_score, recall_score"
     ],
     "language": "python",
     "metadata": {},
     "outputs": [],
     "prompt_number": 15
    },
    {
     "cell_type": "heading",
     "level": 4,
     "metadata": {},
     "source": [
      "Load data"
     ]
    },
    {
     "cell_type": "code",
     "collapsed": false,
     "input": [
      "# specify the location to the data file\n",
      "data_file = \"bank_partial.csv\"\n",
      "\n",
      "# read from text file, exclude header in the data\n",
      "df_data = pd.read_csv(data_file)"
     ],
     "language": "python",
     "metadata": {},
     "outputs": [],
     "prompt_number": 16
    },
    {
     "cell_type": "code",
     "collapsed": false,
     "input": [
      "# get all the discrete attributes\n",
      "disc_cols = [col for col in df_data.columns if df_data[col].dtype == np.object ]\n",
      "# get all the continous attributes\n",
      "cont_cols = [col for col in df_data.columns if df_data[col].dtype == np.int64 ]\n",
      "\n",
      "print \"discrete: %d\" % len(disc_cols), disc_cols\n",
      "print \"continuous: %d\" % len(cont_cols), cont_cols"
     ],
     "language": "python",
     "metadata": {},
     "outputs": [
      {
       "output_type": "stream",
       "stream": "stdout",
       "text": [
        "discrete: 11 ['job', 'marital', 'education', 'default', 'housing', 'loan', 'contact', 'month', 'day_of_week', 'poutcome', 'y']\n",
        "continuous: 5 ['age', 'duration', 'campaign', 'pdays', 'previous']\n"
       ]
      }
     ],
     "prompt_number": 17
    },
    {
     "cell_type": "heading",
     "level": 4,
     "metadata": {},
     "source": [
      "Encode string values to integers"
     ]
    },
    {
     "cell_type": "markdown",
     "metadata": {},
     "source": [
      "(sklearn classifiers do not take string values as input)"
     ]
    },
    {
     "cell_type": "code",
     "collapsed": false,
     "input": [
      "# encode string values to integers\n",
      "from sklearn.preprocessing import LabelEncoder\n",
      "\n",
      "# maintain a dict for string to integer mappings for each column\n",
      "label_dict = dict()\n",
      "for col in disc_cols:\n",
      "    le = LabelEncoder()\n",
      "    # map the string values\n",
      "    df_data[col] = le.fit_transform(df_data[col])\n",
      "    # store the mapping in the dict\n",
      "    label_dict[col] = dict()\n",
      "    for cls, label in zip(le.classes_, le.transform(le.classes_)):\n",
      "        label_dict[col][label] = cls"
     ],
     "language": "python",
     "metadata": {},
     "outputs": [],
     "prompt_number": 18
    },
    {
     "cell_type": "heading",
     "level": 4,
     "metadata": {},
     "source": [
      "Encode discrete attributes with integer values to factors"
     ]
    },
    {
     "cell_type": "code",
     "collapsed": false,
     "input": [
      "\"\"\" \n",
      "One hot encoding forces sklearn classifiers to treat discrete attributes as factors.\n",
      "\n",
      "\"\"\"\n",
      "from sklearn.preprocessing import OneHotEncoder\n",
      "\n",
      "# create an instance of OneHotEncoder\n",
      "ohe = OneHotEncoder()\n",
      "# create a new data frame using one hot encoding\n",
      "\n",
      "# extract continuous attributes to the new data frame\n",
      "df_data2 = df_data[cont_cols]\n",
      "\n",
      "# a container used to store names of the new attributes\n",
      "ohe_cols = []\n",
      "\n",
      "# exclude class variable from One Hot encoding\n",
      "disc_cols.remove('y')\n",
      "\n",
      "\n",
      "# encode each discrete attribute\n",
      "for col in disc_cols:\n",
      "    ohe = OneHotEncoder()\n",
      "    encoded = ohe.fit_transform(df_data[[col]]).toarray()\n",
      "    # create names for the new attributes\n",
      "    names = [col+\"=\"+str(i) for i in range(ohe.n_values_)]\n",
      "    ohe_cols.extend(names)\n",
      "    # transform the encoded values to a data frame\n",
      "    df_encoded = pd.DataFrame(encoded, columns=names)\n",
      "    # concatenate the data frame with the larger new data frame\n",
      "    df_data2 = pd.concat([df_data2, df_encoded], axis=1)"
     ],
     "language": "python",
     "metadata": {},
     "outputs": [],
     "prompt_number": 19
    },
    {
     "cell_type": "heading",
     "level": 4,
     "metadata": {},
     "source": [
      "Partition the data set for cross validation"
     ]
    },
    {
     "cell_type": "code",
     "collapsed": false,
     "input": [
      "from sklearn.cross_validation import train_test_split\n",
      "\n",
      "# partition: train/test = 80/20\n",
      "train_x, test_x, train_y, test_y = train_test_split(df_data2, df_data[\"y\"], test_size=0.2, random_state=123)\n",
      "\n",
      "# convert numpy arrays to data frames\n",
      "df_train_x = pd.DataFrame(train_x, columns=df_data2.columns)\n",
      "df_test_x = pd.DataFrame(test_x, columns=df_data2.columns)\n",
      "df_train_y = pd.DataFrame(train_y, columns=[\"y\"])\n",
      "df_test_y = pd.DataFrame(test_y, columns=[\"y\"])\n",
      "\n",
      "print \"shapes\"\n",
      "print df_train_x.shape\n",
      "print df_test_x.shape\n",
      "print df_train_y.shape\n",
      "print df_test_y.shape\n",
      "\n",
      "print \n",
      "\n",
      "print \"outcome counts\"\n",
      "print df_data[\"y\"].value_counts()\n",
      "print df_train_y[\"y\"].value_counts()\n",
      "print df_test_y[\"y\"].value_counts()\n",
      "# the class counts show that the sampling is roughly stratified"
     ],
     "language": "python",
     "metadata": {},
     "outputs": [
      {
       "output_type": "stream",
       "stream": "stdout",
       "text": [
        "shapes\n",
        "(14843, 58)\n",
        "(3711, 58)\n",
        "(14843, 1)\n",
        "(3711, 1)\n",
        "\n",
        "outcome counts\n",
        "0    13914\n",
        "1     4640\n",
        "dtype: int64\n",
        "0    11142\n",
        "1     3701\n",
        "dtype: int64\n",
        "0    2772\n",
        "1     939\n",
        "dtype: int64\n"
       ]
      }
     ],
     "prompt_number": 20
    },
    {
     "cell_type": "heading",
     "level": 4,
     "metadata": {},
     "source": [
      "Feature Selection for discrete attributes"
     ]
    },
    {
     "cell_type": "code",
     "collapsed": false,
     "input": [
      "f_val, p_val = chi2(df_train_x[ohe_cols], df_train_y[\"y\"]) \n",
      "\n",
      "# print the Chi-squared valus and p values\n",
      "df_scores = pd.DataFrame(zip(ohe_cols, f_val, p_val), columns=[\"feature\", \"chi2\", \"p\"])\n",
      "df_scores[\"chi2\"] = df_scores[\"chi2\"].round(2)\n",
      "df_scores[\"p\"] = df_scores[\"p\"].round(3)\n",
      "print df_scores.sort(\"chi2\", ascending=False)\n",
      "\n",
      "# use features with p < 0.05\n",
      "sel_ohe_cols = df_scores[df_scores[\"p\"]<0.05][\"feature\"].values\n",
      "print \"\\nSelected features: %d\" % len(sel_ohe_cols)\n",
      "print ','.join(sel_ohe_cols)"
     ],
     "language": "python",
     "metadata": {},
     "outputs": [
      {
       "output_type": "stream",
       "stream": "stdout",
       "text": [
        "          feature     chi2      p\n",
        "52     poutcome=2  1541.35  0.000\n",
        "34      contact=1   407.15  0.000\n",
        "40        month=5   347.46  0.000\n",
        "43        month=8   340.46  0.000\n",
        "44        month=9   283.00  0.000\n",
        "25      default=1   225.29  0.000\n",
        "33      contact=0   203.04  0.000\n",
        "41        month=6   189.42  0.000\n",
        "5           job=5   169.70  0.000\n",
        "8           job=8   146.26  0.000\n",
        "51     poutcome=1   138.76  0.000\n",
        "1           job=1   133.62  0.000\n",
        "35        month=0   126.23  0.000\n",
        "37        month=2    92.89  0.000\n",
        "24      default=0    54.45  0.000\n",
        "14      marital=2    51.61  0.000\n",
        "18    education=2    48.58  0.000\n",
        "22    education=6    47.81  0.000\n",
        "38        month=3    30.23  0.000\n",
        "13      marital=1    22.53  0.000\n",
        "7           job=7    22.29  0.000\n",
        "0           job=0    20.32  0.000\n",
        "17    education=1    18.45  0.000\n",
        "50     poutcome=0    16.25  0.000\n",
        "46  day_of_week=1    13.78  0.000\n",
        "47  day_of_week=2     9.21  0.002\n",
        "10         job=10     8.69  0.003\n",
        "23    education=7     8.58  0.003\n",
        "42        month=7     6.32  0.012\n",
        "2           job=2     5.00  0.025\n",
        "16    education=0     4.50  0.034\n",
        "36        month=1     3.43  0.064\n",
        "20    education=4     2.69  0.101\n",
        "29      housing=2     2.36  0.124\n",
        "27      housing=0     2.35  0.125\n",
        "39        month=4     1.24  0.266\n",
        "45  day_of_week=0     1.10  0.294\n",
        "48  day_of_week=3     0.82  0.364\n",
        "19    education=3     0.81  0.368\n",
        "26      default=2     0.66  0.415\n",
        "12      marital=0     0.65  0.420\n",
        "49  day_of_week=4     0.55  0.457\n",
        "9           job=9     0.50  0.481\n",
        "6           job=6     0.49  0.482\n",
        "3           job=3     0.32  0.573\n",
        "21    education=5     0.29  0.592\n",
        "31         loan=1     0.26  0.609\n",
        "28      housing=1     0.26  0.609\n",
        "15      marital=3     0.17  0.677\n",
        "32         loan=2     0.16  0.693\n",
        "30         loan=0     0.07  0.797\n",
        "11         job=11     0.01  0.927\n",
        "4           job=4     0.00  0.946\n",
        "\n",
        "Selected features: 31\n",
        "job=0,job=1,job=2,job=5,job=7,job=8,job=10,marital=1,marital=2,education=0,education=1,education=2,education=6,education=7,default=0,default=1,contact=0,contact=1,month=0,month=2,month=3,month=5,month=6,month=7,month=8,month=9,day_of_week=1,day_of_week=2,poutcome=0,poutcome=1,poutcome=2\n"
       ]
      }
     ],
     "prompt_number": 21
    }
   ],
   "metadata": {}
  }
 ]
}