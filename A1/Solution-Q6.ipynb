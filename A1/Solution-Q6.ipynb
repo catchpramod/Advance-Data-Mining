{
 "metadata": {
  "name": "",
  "signature": "sha256:b288a4bad1c4fb210ef8184bcfd6bf17be5f18ce252a1826004aa4c237460279"
 },
 "nbformat": 3,
 "nbformat_minor": 0,
 "worksheets": [
  {
   "cells": [
    {
     "cell_type": "code",
     "collapsed": false,
     "input": [
      "import pandas as pd\n",
      "import numpy as np\n",
      "from sklearn.feature_selection import *\n",
      "from sklearn.metrics import accuracy_score, f1_score, precision_score, recall_score"
     ],
     "language": "python",
     "metadata": {},
     "outputs": [],
     "prompt_number": 10
    },
    {
     "cell_type": "heading",
     "level": 4,
     "metadata": {},
     "source": [
      "Load data"
     ]
    },
    {
     "cell_type": "code",
     "collapsed": false,
     "input": [
      "# specify the location to the data file\n",
      "data_file = \"bank_partial.csv\"\n",
      "\n",
      "# read from text file, exclude header in the data\n",
      "df_data = pd.read_csv(data_file)"
     ],
     "language": "python",
     "metadata": {},
     "outputs": [],
     "prompt_number": 11
    },
    {
     "cell_type": "code",
     "collapsed": false,
     "input": [
      "# get all the discrete attributes\n",
      "disc_cols = [col for col in df_data.columns if df_data[col].dtype == np.object ]\n",
      "# get all the continous attributes\n",
      "cont_cols = [col for col in df_data.columns if df_data[col].dtype == np.int64 ]\n",
      "\n",
      "print \"discrete: %d\" % len(disc_cols), disc_cols\n",
      "print \"continuous: %d\" % len(cont_cols), cont_cols"
     ],
     "language": "python",
     "metadata": {},
     "outputs": [
      {
       "output_type": "stream",
       "stream": "stdout",
       "text": [
        "discrete: 11 ['job', 'marital', 'education', 'default', 'housing', 'loan', 'contact', 'month', 'day_of_week', 'poutcome', 'y']\n",
        "continuous: 5 ['age', 'duration', 'campaign', 'pdays', 'previous']\n"
       ]
      }
     ],
     "prompt_number": 12
    },
    {
     "cell_type": "heading",
     "level": 4,
     "metadata": {},
     "source": [
      "Encode string values to integers"
     ]
    },
    {
     "cell_type": "markdown",
     "metadata": {},
     "source": [
      "(sklearn classifiers do not take string values as input)"
     ]
    },
    {
     "cell_type": "code",
     "collapsed": false,
     "input": [
      "# encode string values to integers\n",
      "from sklearn.preprocessing import LabelEncoder\n",
      "\n",
      "# maintain a dict for string to integer mappings for each column\n",
      "label_dict = dict()\n",
      "for col in disc_cols:\n",
      "    le = LabelEncoder()\n",
      "    # map the string values\n",
      "    df_data[col] = le.fit_transform(df_data[col])\n",
      "    # store the mapping in the dict\n",
      "    label_dict[col] = dict()\n",
      "    for cls, label in zip(le.classes_, le.transform(le.classes_)):\n",
      "        label_dict[col][label] = cls"
     ],
     "language": "python",
     "metadata": {},
     "outputs": [],
     "prompt_number": 13
    },
    {
     "cell_type": "heading",
     "level": 4,
     "metadata": {},
     "source": [
      "Encode discrete attributes with integer values to factors"
     ]
    },
    {
     "cell_type": "code",
     "collapsed": false,
     "input": [
      "\"\"\" \n",
      "One hot encoding forces sklearn classifiers to treat discrete attributes as factors.\n",
      "\n",
      "\"\"\"\n",
      "from sklearn.preprocessing import OneHotEncoder\n",
      "\n",
      "# create an instance of OneHotEncoder\n",
      "ohe = OneHotEncoder()\n",
      "# create a new data frame using one hot encoding\n",
      "\n",
      "# extract continuous attributes to the new data frame\n",
      "df_data2 = df_data[cont_cols]\n",
      "\n",
      "# a container used to store names of the new attributes\n",
      "ohe_cols = []\n",
      "\n",
      "# exclude class variable from One Hot encoding\n",
      "disc_cols.remove('y')\n",
      "\n",
      "# encode each discrete attribute\n",
      "for col in disc_cols:\n",
      "    ohe = OneHotEncoder()\n",
      "    encoded = ohe.fit_transform(df_data[[col]]).toarray()\n",
      "    # create names for the new attributes\n",
      "    names = [col+\"=\"+str(i) for i in range(ohe.n_values_)]\n",
      "    ohe_cols.extend(names)\n",
      "    # transform the encoded values to a data frame\n",
      "    df_encoded = pd.DataFrame(encoded, columns=names)\n",
      "    # concatenate the data frame with the larger new data frame\n",
      "    df_data2 = pd.concat([df_data2, df_encoded], axis=1)"
     ],
     "language": "python",
     "metadata": {},
     "outputs": [],
     "prompt_number": 14
    },
    {
     "cell_type": "heading",
     "level": 4,
     "metadata": {},
     "source": [
      "Partition the data set for cross validation"
     ]
    },
    {
     "cell_type": "code",
     "collapsed": false,
     "input": [
      "from sklearn.cross_validation import train_test_split\n",
      "\n",
      "# partition: train/test = 80/20\n",
      "train_x, test_x, train_y, test_y = train_test_split(df_data2, df_data[\"y\"], test_size=0.2, random_state=123)\n",
      "\n",
      "# convert numpy arrays to data frames\n",
      "df_train_x = pd.DataFrame(train_x, columns=df_data2.columns)\n",
      "df_test_x = pd.DataFrame(test_x, columns=df_data2.columns)\n",
      "df_train_y = pd.DataFrame(train_y, columns=[\"y\"])\n",
      "df_test_y = pd.DataFrame(test_y, columns=[\"y\"])"
     ],
     "language": "python",
     "metadata": {},
     "outputs": [],
     "prompt_number": 15
    },
    {
     "cell_type": "heading",
     "level": 4,
     "metadata": {},
     "source": [
      "Feature selection for discrete variables"
     ]
    },
    {
     "cell_type": "code",
     "collapsed": false,
     "input": [
      "f_val, p_val = chi2(df_train_x[ohe_cols], df_train_y[\"y\"]) \n",
      "\n",
      "# print the Chi-squared valus and p values\n",
      "df_scores = pd.DataFrame(zip(ohe_cols, f_val, p_val), columns=[\"feature\", \"chi2\", \"p\"])\n",
      "df_scores[\"chi2\"] = df_scores[\"chi2\"].round(2)\n",
      "df_scores[\"p\"] = df_scores[\"p\"].round(3)\n",
      "# print df_scores.sort(\"chi2\", ascending=False)\n",
      "\n",
      "# use features with p < 0.05\n",
      "sel_ohe_cols = df_scores[df_scores[\"p\"]<0.05][\"feature\"].values\n",
      "# print \"\\nSelected features: %d\" % len(sel_ohe_cols)\n",
      "# print ','.join(sel_ohe_cols)"
     ],
     "language": "python",
     "metadata": {},
     "outputs": [],
     "prompt_number": 16
    },
    {
     "cell_type": "heading",
     "level": 4,
     "metadata": {},
     "source": [
      "Feature selection for continuous variables"
     ]
    },
    {
     "cell_type": "code",
     "collapsed": false,
     "input": [
      "# select compute the f value and p value of the ANOVA test between each attribute and the class\n",
      "f_val, p_val = f_classif(df_train_x[cont_cols], df_train_y[\"y\"]) \n",
      "\n",
      "df_scores = pd.DataFrame(zip(cont_cols, f_val, p_val), columns=[\"feature\", \"f\", \"p\"])\n",
      "df_scores[\"f\"] = df_scores[\"f\"].round(2)\n",
      "df_scores[\"p\"] = df_scores[\"p\"].round(3)\n",
      "# print df_scores.sort(\"f\", ascending=False)\n",
      "\n",
      "# use features with p < 0.05\n",
      "sel_cont_cols = df_scores[df_scores[\"p\"]<0.05][\"feature\"].values\n",
      "# print \"\\nSelected features: %d\" % len(sel_cont_cols)\n",
      "# print sel_cont_cols"
     ],
     "language": "python",
     "metadata": {},
     "outputs": [],
     "prompt_number": 17
    },
    {
     "cell_type": "code",
     "collapsed": false,
     "input": [
      "# combine the names selected attributes\n",
      "sel_features = np.concatenate([sel_ohe_cols, sel_cont_cols])\n",
      "sel_features"
     ],
     "language": "python",
     "metadata": {},
     "outputs": [
      {
       "metadata": {},
       "output_type": "pyout",
       "prompt_number": 18,
       "text": [
        "array(['job=0', 'job=1', 'job=2', 'job=5', 'job=7', 'job=8', 'job=10',\n",
        "       'marital=1', 'marital=2', 'education=0', 'education=1',\n",
        "       'education=2', 'education=6', 'education=7', 'default=0',\n",
        "       'default=1', 'contact=0', 'contact=1', 'month=0', 'month=2',\n",
        "       'month=3', 'month=5', 'month=6', 'month=7', 'month=8', 'month=9',\n",
        "       'day_of_week=1', 'day_of_week=2', 'poutcome=0', 'poutcome=1',\n",
        "       'poutcome=2', 'age', 'duration', 'campaign', 'pdays', 'previous'], dtype=object)"
       ]
      }
     ],
     "prompt_number": 18
    },
    {
     "cell_type": "code",
     "collapsed": false,
     "input": [
      "# F1 score using selected features\n",
      "from sklearn import tree\n",
      "# adjust the shape\n",
      "train_y = df_train_y[\"y\"].values\n",
      "train_y.shape = (len(train_y),)\n",
      "\n",
      "clf = tree.DecisionTreeClassifier(criterion=\"entropy\", random_state=10241024)\n",
      "clf = clf.fit(df_train_x[sel_features], train_y)\n",
      "# df_importance = pd.DataFrame(zip(sel_features, clf.feature_importances_), columns=[\"feature\", \"score\"])\n",
      "# print df_importance.sort(\"score\", ascending=False)\n",
      "pred_y = clf.predict(df_test_x[sel_features])\n",
      "print f1_score(pred_y, test_y)"
     ],
     "language": "python",
     "metadata": {},
     "outputs": [
      {
       "output_type": "stream",
       "stream": "stdout",
       "text": [
        "0.656438356164\n"
       ]
      }
     ],
     "prompt_number": 19
    }
   ],
   "metadata": {}
  }
 ]
}